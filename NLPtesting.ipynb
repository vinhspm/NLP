{
 "metadata": {
  "language_info": {
   "codemirror_mode": {
    "name": "ipython",
    "version": 3
   },
   "file_extension": ".py",
   "mimetype": "text/x-python",
   "name": "python",
   "nbconvert_exporter": "python",
   "pygments_lexer": "ipython3",
   "version": "3.6.10-final"
  },
  "orig_nbformat": 2,
  "kernelspec": {
   "name": "Python 3.6.10 64-bit ('py36': conda)",
   "display_name": "Python 3.6.10 64-bit ('py36': conda)",
   "metadata": {
    "interpreter": {
     "hash": "55acc258937b3e9afbabd94b5591b9a061bee9d855c196bfa053a8441030c086"
    }
   }
  }
 },
 "nbformat": 4,
 "nbformat_minor": 2,
 "cells": [
  {
   "cell_type": "code",
   "execution_count": 1,
   "metadata": {},
   "outputs": [],
   "source": [
    "import gensim\n",
    "import re\n",
    "import numpy as np\n",
    "from pyvi import ViTokenizer\n"
   ]
  },
  {
   "cell_type": "code",
   "execution_count": 2,
   "metadata": {},
   "outputs": [],
   "source": [
    "with open(\"testing.txt\", encoding='UTF-8') as f:\n",
    "    X = f.read().split('\\n')"
   ]
  },
  {
   "cell_type": "code",
   "execution_count": 3,
   "metadata": {
    "tags": []
   },
   "outputs": [
    {
     "output_type": "stream",
     "name": "stdout",
     "text": "Máy điều hoà Funiki Từ đầu tháng 7, công ty nhựa và điện lạnh Hoà Phát tung ra thị trường sản phẩm mới là điều hoà tủ đứng và điều hoà âm trần hiệu Funiki. Đây cũng là những sản phẩm có công suất lớn và nhiều tính năng vượt trội. Hai loại sản phẩm này đều có chế độ ngủ vận hành tự động, tự điều chỉnh nhiệt độ tăng hoặc giảm theo mong muốn của bạn 1oC sau 1 giờ và tiếp 1oC sau 2 giờ và dừng lại cho đến khi căn phòng có nhiệt độ lý tưởng nhất. Cánh tự động đảo gió, làm lạnh và nóng trong thời gian ngắn, điều khiển từ xa dạ quang, tự động phá băng, khởi động từ bảo vệ máy nén, dễ dàng bảo dưưỡng. Đặc biệt, điều hòa còn có hệ thống lọc không khí ba lớp có bộ tinh lọc không khí ngăn lại những hạt bụi li ti, khử mùi khói thuốc lá và các chất gây ô nhiễm thông thường khác. Nó còn ngăn các vi rút, vi khuẩn cực nhỏ làm chúng trở nên vô hại và ngăn cản lây lan bệnh. Điều hòa dạng tủ đứng (Floor type): Lại 24000 BTU (một chiều giá 15 triệu 700 nghìn đồng và hai chiều giá 16 triệu 700 nghìn đồng) sử dụng máy nén Matsushita (Nhật Bản). Loại 45000BTU (một chiều giá 22 triệu 990 nghìn đồng và hai chiều giá 24 triệu 800 nghìn đồng) sử dụng Máy nén Copeland  của Mỹ. Điều hòa Cassette âm trần (Ceiling cassette type) Loại 24000 BTU (một chiều giá 20 triệu 570 nghìn đồng, hai chiều giá 21 triệu 500 nghìn đồng) sử dụng máy nén Matsushita (Nhật Bản) \n"
    }
   ],
   "source": [
    "print(X[0])"
   ]
  },
  {
   "cell_type": "code",
   "execution_count": 4,
   "metadata": {
    "tags": []
   },
   "outputs": [],
   "source": [
    "wordList = np.load('wordListtesting.npy', allow_pickle= True)\n"
   ]
  },
  {
   "cell_type": "code",
   "execution_count": 5,
   "metadata": {
    "tags": []
   },
   "outputs": [
    {
     "output_type": "stream",
     "name": "stdout",
     "text": "40550\n"
    }
   ],
   "source": [
    "print(len(wordList))"
   ]
  },
  {
   "cell_type": "code",
   "execution_count": 6,
   "metadata": {},
   "outputs": [],
   "source": [
    "def toNumVector(X):\n",
    "    NumVectorFull = []\n",
    "    filePath = 'trainVectortesting.npy'\n",
    "    if os.path.isfile(filePath) is False:\n",
    "        for word_array in X:\n",
    "            NumVector = []\n",
    "            for word in wordList:\n",
    "                NumVector.append(word_array.count(word))\n",
    "            NumVectorFull.append(NumVector)\n",
    "        NumVectorFull = np.array(NumVectorFull)\n",
    "        f = open(filePath, 'wb+')\n",
    "        np.save(filePath,NumVectorFull)\n",
    "        f.close()\n",
    "        return NumVectorFull\n",
    "    else:\n",
    "        f = open(filePath)\n",
    "        NumVectorFull = np.load(filePath, allow_pickle = True)\n",
    "        f.close() \n",
    "        return NumVectorFull"
   ]
  },
  {
   "cell_type": "code",
   "execution_count": 7,
   "metadata": {
    "tags": []
   },
   "outputs": [],
   "source": [
    "NumVectorFull = toNumVector(X)\n"
   ]
  },
  {
   "source": [
    "print(len(NumVectorFull))"
   ],
   "cell_type": "code",
   "metadata": {
    "tags": []
   },
   "execution_count": 8,
   "outputs": [
    {
     "output_type": "stream",
     "name": "stdout",
     "text": "5000\n"
    }
   ]
  },
  {
   "cell_type": "code",
   "execution_count": 9,
   "metadata": {},
   "outputs": [],
   "source": [
    "def transLabel(y):\n",
    "    if y == '__CTXH__':\n",
    "        return 0\n",
    "    if y == '__SK__':\n",
    "        return 1\n",
    "    if y == '__TG__':\n",
    "        return 2\n",
    "    if y == '__DS__':\n",
    "        return 3\n",
    "    if y == '__TT__':\n",
    "        return 4\n",
    "    if y == '__KH__':\n",
    "        return 5\n",
    "    if y == '__PL__':\n",
    "        return 6\n",
    "    if y == '__VT__':\n",
    "        return 7\n",
    "    if y == '__KD__':\n",
    "        return 8\n",
    "    if y == '__VH__':\n",
    "        return 9\n",
    "    if y == 0:\n",
    "        return '__CTXH__'\n",
    "    if y == 1:\n",
    "        return '__SK__'\n",
    "    if y == 2:\n",
    "        return '__TG__'\n",
    "    if y == 3:\n",
    "        return '__DS__'\n",
    "    if y == 4:\n",
    "        return '__TT__'\n",
    "    if y == 5:\n",
    "        return '__KH__'\n",
    "    if y == 6:\n",
    "        return '__PL__'\n",
    "    if y == 7:\n",
    "        return '__VT__'\n",
    "    if y == 8:\n",
    "        return '__KD__'\n",
    "    if y == 9:\n",
    "        return '__VH__'\n"
   ]
  },
  {
   "cell_type": "code",
   "execution_count": 10,
   "metadata": {},
   "outputs": [],
   "source": [
    "import pickle"
   ]
  },
  {
   "cell_type": "code",
   "execution_count": 12,
   "metadata": {},
   "outputs": [],
   "source": [
    "\n",
    "\n",
    "filePath = 'randomforest100.pkl'\n",
    "model_load = pickle.load(open(filePath, 'rb'))\n",
    "predict = model_load.predict(NumVectorFull)\n",
    "res = []\n",
    "for i in range(len(predict)):\n",
    "    res.append(transLabel(predict[i])) \n",
    "filePath = 'result random forest.txt'\n",
    "f = open(filePath, 'w+')\n",
    "for line in res:\n",
    "    f.write(line + '\\n')"
   ]
  },
  {
   "cell_type": "code",
   "execution_count": null,
   "metadata": {},
   "outputs": [],
   "source": []
  }
 ]
}